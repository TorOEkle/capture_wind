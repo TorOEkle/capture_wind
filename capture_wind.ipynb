{
 "cells": [
  {
   "cell_type": "code",
   "execution_count": 1,
   "metadata": {},
   "outputs": [],
   "source": [
    "import pandas as pd\n",
    "import numpy as np"
   ]
  },
  {
   "attachments": {},
   "cell_type": "markdown",
   "metadata": {},
   "source": [
    "source price data <https://transparency.entsoe.eu/transmission-domain/r2/dayAheadPrices/show?name=&defaultValue=true&viewType=TABLE&areaType=BZN&atch=false&dateTime.dateTime=16.02.2024+00:00|CET|DAY&biddingZone.values=CTY|10YNO-0--------C!BZN|10YNO-1--------2&resolution.values=PT60M&dateTime.timezone=CET_CEST&dateTime.timezone_input=CET+(UTC+1)+/+CEST+(UTC+2)>"
   ]
  },
  {
   "cell_type": "code",
   "execution_count": 103,
   "metadata": {},
   "outputs": [],
   "source": [
    "\n",
    "df_21 = pd.read_csv('no2_2021.csv')\n",
    "df_22 = pd.read_csv('no2_2022.csv')\n",
    "df_23 = pd.read_csv('no2_2023.csv')\n",
    "pdList = [df_21, df_22 ]\n",
    "df = pd.concat(pdList)\n",
    "df = df.reset_index().drop('index', axis = 1)\n",
    "df['date'] =  df['MTU (UTC)'].str[:16]\n",
    "df = df.rename(columns={'Day-ahead Price [EUR/MWh]':'price_no2'})[['date','price_no2']]\n",
    "df_23['date'] =  df_23['MTU (CET/CEST)'].str[:16]\n",
    "df_23 = df_23.rename(columns={'Day-ahead Price [EUR/MWh]':'price_no2'})[['date','price_no2']]\n",
    "\n",
    "df = pd.concat([df,df_23])\n",
    "\n",
    "df['date'] = pd.to_datetime(df['date'], format='%d.%m.%Y %H:%M')\n",
    "# Set year as a column\n",
    "df['year'] = df['date'].dt.year\n",
    "# change priec_no2 to float\n",
    "df['price_no2'] = df['price_no2'].astype(float)\n"
   ]
  },
  {
   "cell_type": "code",
   "execution_count": 65,
   "metadata": {},
   "outputs": [
    {
     "data": {
      "text/html": [
       "<div>\n",
       "<style scoped>\n",
       "    .dataframe tbody tr th:only-of-type {\n",
       "        vertical-align: middle;\n",
       "    }\n",
       "\n",
       "    .dataframe tbody tr th {\n",
       "        vertical-align: top;\n",
       "    }\n",
       "\n",
       "    .dataframe thead th {\n",
       "        text-align: right;\n",
       "    }\n",
       "</style>\n",
       "<table border=\"1\" class=\"dataframe\">\n",
       "  <thead>\n",
       "    <tr style=\"text-align: right;\">\n",
       "      <th></th>\n",
       "      <th>price_no2</th>\n",
       "    </tr>\n",
       "    <tr>\n",
       "      <th>year</th>\n",
       "      <th></th>\n",
       "    </tr>\n",
       "  </thead>\n",
       "  <tbody>\n",
       "    <tr>\n",
       "      <th>2021</th>\n",
       "      <td>75.107840</td>\n",
       "    </tr>\n",
       "    <tr>\n",
       "      <th>2022</th>\n",
       "      <td>211.277426</td>\n",
       "    </tr>\n",
       "    <tr>\n",
       "      <th>2023</th>\n",
       "      <td>79.446628</td>\n",
       "    </tr>\n",
       "  </tbody>\n",
       "</table>\n",
       "</div>"
      ],
      "text/plain": [
       "       price_no2\n",
       "year            \n",
       "2021   75.107840\n",
       "2022  211.277426\n",
       "2023   79.446628"
      ]
     },
     "execution_count": 65,
     "metadata": {},
     "output_type": "execute_result"
    }
   ],
   "source": [
    "df.groupby('year').mean('price_no2')"
   ]
  },
  {
   "attachments": {},
   "cell_type": "markdown",
   "metadata": {},
   "source": [
    "# Pull in windproduction data in NO2\n",
    "\n",
    "-   source: <https://elhub.no/data/apnedata/#production_per_group_mba_hour>"
   ]
  },
  {
   "cell_type": "code",
   "execution_count": 104,
   "metadata": {},
   "outputs": [],
   "source": [
    "production = pd.read_csv('production_NO.csv')\n",
    "# make column names to small letters\n",
    "production.columns = production.columns.str.lower()\n",
    "production = production[(production['price_area'] == \"NO2\") & (production['production_group'] == \"Wind unspecified\")]\n",
    "production = production[['start_time','volume_kwh']]\n",
    "# Convert the column to string\n",
    "production['start_time'] = production['start_time'].astype(str)\n",
    "# Remove the timezone part by keeping only the characters before the '+'\n",
    "# Have extracted data from entso-e in same timeformat as reported by elhub\n",
    "production['start_time'] = production['start_time'].str.slice(stop=-6)\n",
    "\n",
    "# Convert the resulting string to datetime\n",
    "production['start_time'] = pd.to_datetime(production['start_time'])\n",
    "df = pd.merge(df, production, left_on='date', right_on='start_time', how='left')\n",
    "df['volume_mwh'] = df['volume_kwh'] *0.001 # compensate for volume in kwh \n",
    "df['revenue_wind'] = df['volume_mwh'] * df['price_no2']\n"
   ]
  },
  {
   "cell_type": "code",
   "execution_count": 115,
   "metadata": {},
   "outputs": [],
   "source": [
    "grouped_df = df.groupby('year').agg({\n",
    "    'revenue_wind': 'sum',\n",
    "    'volume_mwh': 'sum',\n",
    "    'price_no2': 'mean'\n",
    "}).reset_index()\n",
    "grouped_df['wind_captured'] = grouped_df['revenue_wind'] / grouped_df['volume_mwh']\n",
    "grouped_df['verdifaktor'] = grouped_df['wind_captured'] / grouped_df['price_no2']"
   ]
  },
  {
   "cell_type": "code",
   "execution_count": 121,
   "metadata": {},
   "outputs": [],
   "source": [
    "#rename price_no2 to mean_price_no2\n",
    "grouped_df.rename(columns={'price_no2':'mean_price_no2'}, inplace = True)\n"
   ]
  },
  {
   "cell_type": "code",
   "execution_count": 126,
   "metadata": {},
   "outputs": [
    {
     "data": {
      "text/html": [
       "<div>\n",
       "<style scoped>\n",
       "    .dataframe tbody tr th:only-of-type {\n",
       "        vertical-align: middle;\n",
       "    }\n",
       "\n",
       "    .dataframe tbody tr th {\n",
       "        vertical-align: top;\n",
       "    }\n",
       "\n",
       "    .dataframe thead th {\n",
       "        text-align: right;\n",
       "    }\n",
       "</style>\n",
       "<table border=\"1\" class=\"dataframe\">\n",
       "  <thead>\n",
       "    <tr style=\"text-align: right;\">\n",
       "      <th></th>\n",
       "      <th>year</th>\n",
       "      <th>mean_price_no2</th>\n",
       "      <th>wind_captured</th>\n",
       "      <th>verdifaktor</th>\n",
       "    </tr>\n",
       "  </thead>\n",
       "  <tbody>\n",
       "    <tr>\n",
       "      <th>0</th>\n",
       "      <td>2021</td>\n",
       "      <td>75.105980</td>\n",
       "      <td>76.588413</td>\n",
       "      <td>1.019738</td>\n",
       "    </tr>\n",
       "    <tr>\n",
       "      <th>1</th>\n",
       "      <td>2022</td>\n",
       "      <td>211.264206</td>\n",
       "      <td>188.678098</td>\n",
       "      <td>0.893091</td>\n",
       "    </tr>\n",
       "    <tr>\n",
       "      <th>2</th>\n",
       "      <td>2023</td>\n",
       "      <td>79.433936</td>\n",
       "      <td>71.934591</td>\n",
       "      <td>0.905590</td>\n",
       "    </tr>\n",
       "  </tbody>\n",
       "</table>\n",
       "</div>"
      ],
      "text/plain": [
       "   year  mean_price_no2  wind_captured  verdifaktor\n",
       "0  2021       75.105980      76.588413     1.019738\n",
       "1  2022      211.264206     188.678098     0.893091\n",
       "2  2023       79.433936      71.934591     0.905590"
      ]
     },
     "execution_count": 126,
     "metadata": {},
     "output_type": "execute_result"
    }
   ],
   "source": [
    "grouped_df[['year','mean_price_no2','wind_captured','verdifaktor']]"
   ]
  }
 ],
 "metadata": {
  "kernelspec": {
   "display_name": "Python 3",
   "language": "python",
   "name": "python3"
  },
  "language_info": {
   "codemirror_mode": {
    "name": "ipython",
    "version": 3
   },
   "file_extension": ".py",
   "mimetype": "text/x-python",
   "name": "python",
   "nbconvert_exporter": "python",
   "pygments_lexer": "ipython3",
   "version": "3.11.0"
  },
  "orig_nbformat": 4
 },
 "nbformat": 4,
 "nbformat_minor": 2
}
